{
 "cells": [
  {
   "cell_type": "code",
   "execution_count": 22,
   "id": "4c1f19cf-e4b5-4af4-b48c-4f9502d59488",
   "metadata": {},
   "outputs": [
    {
     "name": "stdout",
     "output_type": "stream",
     "text": [
      "X1: 12\n",
      "Y1: 13\n",
      "X2: 14\n",
      "Y2: 16\n",
      "Distance: 3.605551275463989\n"
     ]
    }
   ],
   "source": [
    "class Point:\n",
    "    def __init__(self, X1, Y1, X2, Y2):\n",
    "        self.X1 = X1\n",
    "        self.Y1 = Y1\n",
    "        self.X2 = X2\n",
    "        self.Y2 = Y2\n",
    "\n",
    "    def show(self):\n",
    "        print(f\"X1: {self.X1}\")\n",
    "        print(f\"Y1: {self.Y1}\")\n",
    "        print(f\"X2: {self.X2}\")\n",
    "        print(f\"Y2: {self.Y2}\")\n",
    "'\n",
    "    def formula(self):\n",
    "        import math\n",
    "        distance = math.sqrt((self.X2 - self.X1) ** 2 + (self.Y2 - self.Y1) ** 2)\n",
    "        print(f\"Distance: {distance}\")\n",
    "=\n",
    "[s1 = Point(ku0\n",
    "            12, 13, 14, 16)\n",
    "s[=oi1.show()\n",
    "s1.formula()\n"
   ]
  },
  {
   "cell_type": "code",
   "execution_count": 14,
   "id": "e2362903-bfb6-42c7-b3d6-abb84450ece9",
   "metadata": {},
   "outputs": [
    {
     "name": "stdout",
     "output_type": "stream",
     "text": [
      "namaste sudhanshu\n"
     ]
    },
    {
     "data": {
      "text/plain": [
       "'male'"
      ]
     },
     "execution_count": 14,
     "metadata": {},
     "output_type": "execute_result"
    }
   ],
   "source": [
    "class person:\n",
    "    def __init__(self,name,country_origin):\n",
    "        self.name=name\n",
    "        self.country_origin=country_origin\n",
    "    def greet(self):\n",
    "        if self.country_origin==\"india\":\n",
    "         print(\"namaste\",self.name)\n",
    "        else:\n",
    "            print(\"hello\",self.name)\n",
    "p1=person(\"sudhanshu\",\"india\")        \n",
    "p1.greet()\n",
    "p1.gender=\"male\"\n",
    "p1.gender"
   ]
  },
  {
   "cell_type": "code",
   "execution_count": 28,
   "id": "b8aec951-5347-47b7-9316-15b5942f66c8",
   "metadata": {},
   "outputs": [
    {
     "name": "stdout",
     "output_type": "stream",
     "text": [
      "2961626219584\n",
      "2961626219584\n",
      "all good\n",
      "name\n",
      "name\n"
     ]
    }
   ],
   "source": [
    "class person:#reference variable\n",
    "    def __init__(self,name,roll):\n",
    "     self.name=name\n",
    "     self.roll=roll\n",
    "p1=person(\"name\",\"roll\")\n",
    "p2=p1\n",
    "print(id(p1))\n",
    "print(id(p2))\n",
    "if(id(p1))==(id(p2)):\n",
    "     print(\"all good\")\n",
    "else:\n",
    "    print(\"chud gye guru\")\n",
    "print(p1.name)\n",
    "print(p2.name)"
   ]
  },
  {
   "cell_type": "code",
   "execution_count": 2,
   "id": "eb32d037-cf66-460c-9afc-f8e9f8e6bb8f",
   "metadata": {},
   "outputs": [
    {
     "name": "stdout",
     "output_type": "stream",
     "text": [
      "hi my name is rqhul my gender is male\n"
     ]
    },
    {
     "data": {
      "text/plain": [
       "'rqhul'"
      ]
     },
     "execution_count": 2,
     "metadata": {},
     "output_type": "execute_result"
    }
   ],
   "source": [
    "class person:\n",
    "    def __init__(self, name, gender):\n",
    "        self.name = name\n",
    "        self.gender = gender\n",
    "\n",
    "def greet(person):   # <-- outside\n",
    "    print(\"hi my name is\", person.name, \"my gender is\", person.gender)\n",
    "\n",
    "p = person(\"sudhanshu\", \"male\")\n",
    "p.name=\"rqhul\"\n",
    "greet(p)  # <-- function call\n",
    "p.name"
   ]
  },
  {
   "cell_type": "code",
   "execution_count": 15,
   "id": "f240afae-e0de-4e30-af9b-9eb3507dca95",
   "metadata": {},
   "outputs": [
    {
     "name": "stdout",
     "output_type": "stream",
     "text": [
      "2395404662976\n",
      "2395404662976\n"
     ]
    }
   ],
   "source": [
    "class person:\n",
    "    def __init__(self, name, gender):\n",
    "        self.name = name\n",
    "        self.gender = gender\n",
    "\n",
    "def greet(person):   # outside function\n",
    "    person.name = \"ankit\"\n",
    "    return person\n",
    "\n",
    "p = person(\"sudhanshu\", \"male\")\n",
    "print(id(p))   # id before change\n",
    "\n",
    "p1 = greet(p)  # pass by reference\n",
    "print(id(p1))  # id after change\n"
   ]
  },
  {
   "cell_type": "markdown",
   "id": "96e473c4-ea59-4452-af57-d76119caa8aa",
   "metadata": {},
   "source": [
    "<h1>encaptulation</h1>"
   ]
  },
  {
   "cell_type": "code",
   "execution_count": 32,
   "id": "168c0b76-9c81-4b3d-baf5-987ec9b0a783",
   "metadata": {},
   "outputs": [
    {
     "data": {
      "text/plain": [
       "'sudhanshu'"
      ]
     },
     "execution_count": 32,
     "metadata": {},
     "output_type": "execute_result"
    }
   ],
   "source": [
    "#instance variable= ek baar me do variable store karte hai\n",
    "class person:\n",
    "    def __init__(self, name, gender):\n",
    "        self.name = name\n",
    "        self.gender = gender\n",
    "p1=person(\"sudhanshu\",\"male\")\n",
    "p2=person(\"rahul\",\"male\")\n",
    "p1.name\n"
   ]
  },
  {
   "cell_type": "code",
   "execution_count": 33,
   "id": "484317d3-96aa-4884-bbdc-a6c6750b725a",
   "metadata": {},
   "outputs": [
    {
     "name": "stdout",
     "output_type": "stream",
     "text": [
      "Getting name...\n",
      "Sudhanshu\n",
      "Setting name...\n",
      "Getting name...\n",
      "Ankit\n"
     ]
    }
   ],
   "source": [
    "\n",
    "class Person:\n",
    "    def __init__(self, name):\n",
    "        self._name = name   # underscore means \"private\"\n",
    "\n",
    "    # Getter\n",
    "    @property\n",
    "    def name(self):\n",
    "        print(\"Getting name...\")\n",
    "        return self._name\n",
    "\n",
    "    # Setter\n",
    "    @name.setter\n",
    "    def name(self, new_name):\n",
    "        print(\"Setting name...\")\n",
    "        self._name = new_name\n",
    "\n",
    "# Create object\n",
    "p = Person(\"Sudhanshu\")\n",
    "\n",
    "# Use getter\n",
    "print(p.name)   # Getting name... -> Sudhanshu\n",
    "\n",
    "# Use setter\n",
    "p.name = \"Ankit\"  # Setting name...\n",
    "\n",
    "# Use getter again\n",
    "print(p.name)   # Getting name... -> Ankit\n"
   ]
  },
  {
   "cell_type": "code",
   "execution_count": 46,
   "id": "3d1c9788-6a89-4736-bd5e-426f479580ba",
   "metadata": {},
   "outputs": [
    {
     "name": "stdout",
     "output_type": "stream",
     "text": [
      "getting age\n",
      "21\n"
     ]
    }
   ],
   "source": [
    "#getter property\n",
    "class person:\n",
    "    def __init__(self,age):\n",
    "      self._age=age #privater/protected\n",
    "    @property\n",
    "    def age(self):\n",
    "     print(\"getting age\")\n",
    "     return self._age\n",
    "p=person(21)\n",
    "print(p.age)"
   ]
  },
  {
   "cell_type": "code",
   "execution_count": 51,
   "id": "d7db342a-098a-4a16-b5b9-ec2c40b6d7c6",
   "metadata": {},
   "outputs": [
    {
     "name": "stdout",
     "output_type": "stream",
     "text": [
      "sudhanshusingh\n",
      "age\n"
     ]
    }
   ],
   "source": [
    "class person:\n",
    "    def __init__(self,name,age):\n",
    "     self._name=name\n",
    "     self.age=age\n",
    "    @property\n",
    "    def name(self):\n",
    "        print(\"getting name\")\n",
    "        return self._name\n",
    "p1=person(\"sudhanshusingh\",\"age\")\n",
    "print(p1._name)  \n",
    "print(p1.age)"
   ]
  },
  {
   "cell_type": "code",
   "execution_count": 52,
   "id": "76f36716-6f3b-4172-9bdb-bfe3b239412c",
   "metadata": {},
   "outputs": [],
   "source": [
    "#setter property"
   ]
  },
  {
   "cell_type": "code",
   "execution_count": null,
   "id": "7e39fbd4-e1cf-4149-bbae-b85e02535756",
   "metadata": {},
   "outputs": [],
   "source": []
  },
  {
   "cell_type": "code",
   "execution_count": 68,
   "id": "c2a34af3-d758-4746-a40a-7d5f26544641",
   "metadata": {},
   "outputs": [
    {
     "name": "stdout",
     "output_type": "stream",
     "text": [
      "[<__main__.person object at 0x0000022DB93E6660>, <__main__.person object at 0x0000022DB997F890>, <__main__.person object at 0x0000022DB997F750>]\n",
      "sudhanshu_singh 23 bhartiya\n",
      "adittya 45 spain\n",
      "raj 63 haiti_rebael\n",
      "sudhanshu_singh 23 bhartiya\n",
      "adittya 45 spain\n",
      "raj 63 haiti_rebael\n",
      "sudhanshu_singh 23 bhartiya\n",
      "adittya 45 spain\n",
      "raj 63 haiti_rebael\n"
     ]
    }
   ],
   "source": [
    "#collection of objects\n",
    "#lists of objects\n",
    "class person:\n",
    "  def __init__(self,name,age,country):\n",
    "    self._name=name\n",
    "    self.age=age\n",
    "    self.country=country\n",
    "  @property\n",
    "  def name(self):\n",
    "      print(\"getting name\")\n",
    "      return self._name\n",
    "p1=person(\"sudhanshu_singh\",23,\"bhartiya\")\n",
    "p2=person(\"adittya\",45,\"spain\")\n",
    "p3=person(\"raj\",63,\"haiti_rebael\")\n",
    "l=[p1,p2,p3]\n",
    "print(l)\n",
    "for repeat in range(3):\n",
    " for i in l:\n",
    "  print(i._name,i.age,i.country)"
   ]
  },
  {
   "cell_type": "code",
   "execution_count": null,
   "id": "8b89363f-7d95-4401-9a23-9e4920ffda0a",
   "metadata": {},
   "outputs": [],
   "source": [
    "#static var vs instance variable"
   ]
  }
 ],
 "metadata": {
  "kernelspec": {
   "display_name": "Python 3 (ipykernel)",
   "language": "python",
   "name": "python3"
  },
  "language_info": {
   "codemirror_mode": {
    "name": "ipython",
    "version": 3
   },
   "file_extension": ".py",
   "mimetype": "text/x-python",
   "name": "python",
   "nbconvert_exporter": "python",
   "pygments_lexer": "ipython3",
   "version": "3.13.1"
  }
 },
 "nbformat": 4,
 "nbformat_minor": 5
}
